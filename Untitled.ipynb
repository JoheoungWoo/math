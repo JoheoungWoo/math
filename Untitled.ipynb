{
 "cells": [
  {
   "cell_type": "markdown",
   "id": "3a998eec-7f90-4b79-ab03-d877cb961e74",
   "metadata": {},
   "source": [
    "aa=5\n",
    "aa"
   ]
  },
  {
   "cell_type": "markdown",
   "id": "abe9b806-da81-4d12-9e64-b2bf2ed0f248",
   "metadata": {},
   "source": [
    "<h1>항공학과</h1>\n",
    "<ul>\n",
    "    <li style=\"color:red\">광고1</li>\n",
    "    <li>광고2</li>\n",
    "    <li>광고3</li>\n",
    "</ul>"
   ]
  },
  {
   "cell_type": "markdown",
   "id": "187e8910-deb9-491f-84dd-f4f792c9ffcb",
   "metadata": {},
   "source": [
    "$ \\sum_{i=1}^{5} (6xi^2 + 7x) $"
   ]
  },
  {
   "cell_type": "code",
   "execution_count": 35,
   "id": "50196cb5-1591-4c6b-83ff-980751fe2bd5",
   "metadata": {},
   "outputs": [
    {
     "name": "stdout",
     "output_type": "stream",
     "text": [
      "3\n",
      "5\n",
      "6\n",
      "7\n",
      "9\n"
     ]
    }
   ],
   "source": [
    "li = [3,5,6,7,9]\n",
    "for i in range(5):\n",
    "    print(li[i])"
   ]
  },
  {
   "cell_type": "code",
   "execution_count": 37,
   "id": "83806bcf-c950-4c5a-8c95-c87aaf243634",
   "metadata": {},
   "outputs": [
    {
     "name": "stdout",
     "output_type": "stream",
     "text": [
      "3\n",
      "5\n",
      "6\n",
      "7\n",
      "9\n"
     ]
    }
   ],
   "source": [
    "li = [3,5,6,7,9]\n",
    "for i in li:\n",
    "    print(i)"
   ]
  },
  {
   "cell_type": "code",
   "execution_count": 38,
   "id": "fb07afff-1868-42fa-aaa1-f952fa59a48c",
   "metadata": {},
   "outputs": [
    {
     "data": {
      "text/plain": [
       "[6, 10, 12, 14, 18]"
      ]
     },
     "execution_count": 38,
     "metadata": {},
     "output_type": "execute_result"
    }
   ],
   "source": [
    "li = [3,5,6,7,9]\n",
    "[i*2 for i in li] # List comprehension"
   ]
  },
  {
   "cell_type": "code",
   "execution_count": 39,
   "id": "8dce7c6d-38de-4988-8a4f-ecf5ca2a5989",
   "metadata": {},
   "outputs": [
    {
     "data": {
      "text/plain": [
       "[6, 10, 12, 14, 18]"
      ]
     },
     "execution_count": 39,
     "metadata": {},
     "output_type": "execute_result"
    }
   ],
   "source": [
    "li = [3,5,6,7,9]\n",
    "re = []\n",
    "for i in li:\n",
    "    re.append(i*2)\n",
    "re"
   ]
  },
  {
   "cell_type": "code",
   "execution_count": 43,
   "id": "51424208-3d22-43f9-ac76-d84767ba178c",
   "metadata": {},
   "outputs": [
    {
     "data": {
      "text/plain": [
       "[6, 12, 18]"
      ]
     },
     "execution_count": 43,
     "metadata": {},
     "output_type": "execute_result"
    }
   ],
   "source": [
    "li = [3,5,6,7,9]\n",
    "[i*2 for i in li if i%3==0]"
   ]
  },
  {
   "cell_type": "code",
   "execution_count": 44,
   "id": "45c21848-1273-4f6f-b901-33a66af699aa",
   "metadata": {},
   "outputs": [
    {
     "data": {
      "text/plain": [
       "250"
      ]
     },
     "execution_count": 44,
     "metadata": {},
     "output_type": "execute_result"
    }
   ],
   "source": [
    "s=0\n",
    "for i in range(5):\n",
    "    s += 6*i**2 +7*i\n",
    "s"
   ]
  },
  {
   "cell_type": "markdown",
   "id": "5b839560-1eb4-42a9-90f9-37101565f895",
   "metadata": {},
   "source": [
    "$ \\sum_{i=1}^{5} (6xi^2 + 7x) $"
   ]
  },
  {
   "cell_type": "code",
   "execution_count": 44,
   "id": "8c46854a-f459-4555-b5aa-1070d9179977",
   "metadata": {},
   "outputs": [
    {
     "data": {
      "text/plain": [
       "250"
      ]
     },
     "execution_count": 44,
     "metadata": {},
     "output_type": "execute_result"
    }
   ],
   "source": [
    "s=0\n",
    "for i in range(5):\n",
    "    s += 6*i**2 +7*i\n",
    "s"
   ]
  },
  {
   "cell_type": "code",
   "execution_count": 45,
   "id": "a687ffdb-a6c4-4053-9a4b-c66bdc8cbca1",
   "metadata": {},
   "outputs": [],
   "source": [
    "li = [2,3,4,6,8]\n",
    "import numpy as np"
   ]
  },
  {
   "cell_type": "code",
   "execution_count": 77,
   "id": "817940fa-e42a-4cae-9ad3-97ff6f55ff1d",
   "metadata": {},
   "outputs": [
    {
     "data": {
      "text/plain": [
       "array([0.69314718, 1.09861229, 1.38629436, 1.79175947, 2.07944154])"
      ]
     },
     "execution_count": 77,
     "metadata": {},
     "output_type": "execute_result"
    }
   ],
   "source": [
    "np.log(li)"
   ]
  },
  {
   "cell_type": "code",
   "execution_count": 113,
   "id": "cda4765e-187d-4ddc-8381-4a82fa8f87fc",
   "metadata": {},
   "outputs": [
    {
     "name": "stdout",
     "output_type": "stream",
     "text": [
      "224\n"
     ]
    },
    {
     "ename": "TypeError",
     "evalue": "'list' object is not callable",
     "output_type": "error",
     "traceback": [
      "\u001b[1;31m---------------------------------------------------------------------------\u001b[0m",
      "\u001b[1;31mTypeError\u001b[0m                                 Traceback (most recent call last)",
      "Cell \u001b[1;32mIn[113], line 9\u001b[0m\n\u001b[0;32m      6\u001b[0m     sum1 \u001b[38;5;241m+\u001b[39m\u001b[38;5;241m=\u001b[39m i\u001b[38;5;241m*\u001b[39m\u001b[38;5;241m*\u001b[39m\u001b[38;5;241m3\u001b[39m\n\u001b[0;32m      7\u001b[0m \u001b[38;5;28mprint\u001b[39m(sum1)\n\u001b[1;32m----> 9\u001b[0m \u001b[38;5;28msum\u001b[39m([i\u001b[38;5;241m*\u001b[39m\u001b[38;5;241m*\u001b[39m\u001b[38;5;241m3\u001b[39m \u001b[38;5;28;01mfor\u001b[39;00m i \u001b[38;5;129;01min\u001b[39;00m na])\n",
      "\u001b[1;31mTypeError\u001b[0m: 'list' object is not callable"
     ]
    }
   ],
   "source": [
    "import numpy as np\n",
    "na = [2,3,4,5] # 2^3, 3^3 \n",
    "sum1 = 0\n",
    "\n",
    "for i in na:\n",
    "    sum1 += i**3\n",
    "print(sum1)\n",
    "\n",
    "sum([i**3 for i in na])"
   ]
  },
  {
   "cell_type": "code",
   "execution_count": 121,
   "id": "e4d359cf-3169-42e6-9cb4-f6e06c38b84e",
   "metadata": {},
   "outputs": [
    {
     "ename": "TypeError",
     "evalue": "'list' object is not callable",
     "output_type": "error",
     "traceback": [
      "\u001b[1;31m---------------------------------------------------------------------------\u001b[0m",
      "\u001b[1;31mTypeError\u001b[0m                                 Traceback (most recent call last)",
      "Cell \u001b[1;32mIn[121], line 8\u001b[0m\n\u001b[0;32m      1\u001b[0m li2\u001b[38;5;241m=\u001b[39m    [\n\u001b[0;32m      2\u001b[0m         {\u001b[38;5;124m\"\u001b[39m\u001b[38;5;124ma\u001b[39m\u001b[38;5;124m\"\u001b[39m:[\u001b[38;5;241m1\u001b[39m,\u001b[38;5;241m2\u001b[39m,\u001b[38;5;241m3\u001b[39m,\u001b[38;5;241m4\u001b[39m]},\n\u001b[0;32m      3\u001b[0m         {\u001b[38;5;124m\"\u001b[39m\u001b[38;5;124ma\u001b[39m\u001b[38;5;124m\"\u001b[39m:[\u001b[38;5;241m11\u001b[39m,\u001b[38;5;241m22\u001b[39m,\u001b[38;5;241m33\u001b[39m,\u001b[38;5;241m14\u001b[39m]},\n\u001b[0;32m      4\u001b[0m         {\u001b[38;5;124m\"\u001b[39m\u001b[38;5;124ma\u001b[39m\u001b[38;5;124m\"\u001b[39m:[\u001b[38;5;241m21\u001b[39m,\u001b[38;5;241m22\u001b[39m,\u001b[38;5;241m23\u001b[39m,\u001b[38;5;241m24\u001b[39m]},\n\u001b[0;32m      5\u001b[0m         {\u001b[38;5;124m\"\u001b[39m\u001b[38;5;124ma\u001b[39m\u001b[38;5;124m\"\u001b[39m:[\u001b[38;5;241m41\u001b[39m,\u001b[38;5;241m42\u001b[39m,\u001b[38;5;241m43\u001b[39m,\u001b[38;5;241m54\u001b[39m]}\n\u001b[0;32m      6\u001b[0m     ]\n\u001b[0;32m      7\u001b[0m li2[\u001b[38;5;241m0\u001b[39m][\u001b[38;5;124m'\u001b[39m\u001b[38;5;124ma\u001b[39m\u001b[38;5;124m'\u001b[39m]\n\u001b[1;32m----> 8\u001b[0m \u001b[38;5;28msum\u001b[39m(li2[\u001b[38;5;241m0\u001b[39m][\u001b[38;5;124m'\u001b[39m\u001b[38;5;124ma\u001b[39m\u001b[38;5;124m'\u001b[39m])\n",
      "\u001b[1;31mTypeError\u001b[0m: 'list' object is not callable"
     ]
    }
   ],
   "source": [
    "li2=    [\n",
    "        {\"a\":[1,2,3,4]},\n",
    "        {\"a\":[11,22,33,14]},\n",
    "        {\"a\":[21,22,23,24]},\n",
    "        {\"a\":[41,42,43,54]}\n",
    "    ]\n",
    "li2[0]['a']\n",
    "sum(li2[0]['a'])"
   ]
  },
  {
   "cell_type": "code",
   "execution_count": null,
   "id": "5737d9d3-a7e0-477c-a1ea-b77ca311174c",
   "metadata": {},
   "outputs": [],
   "source": []
  }
 ],
 "metadata": {
  "kernelspec": {
   "display_name": "Python 3 (ipykernel)",
   "language": "python",
   "name": "python3"
  },
  "language_info": {
   "codemirror_mode": {
    "name": "ipython",
    "version": 3
   },
   "file_extension": ".py",
   "mimetype": "text/x-python",
   "name": "python",
   "nbconvert_exporter": "python",
   "pygments_lexer": "ipython3",
   "version": "3.13.5"
  }
 },
 "nbformat": 4,
 "nbformat_minor": 5
}
