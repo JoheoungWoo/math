{
 "cells": [
  {
   "cell_type": "code",
   "execution_count": 18,
   "id": "ad018c88-f799-4863-9125-751d261df5b4",
   "metadata": {},
   "outputs": [],
   "source": [
    "li2=    [\n",
    "        {\"a\":[1,2,3,4]},\n",
    "        {\"a\":[11,22,33,14]},\n",
    "        {\"a\":[21,22,23,24]},\n",
    "        {\"a\":[41,42,43,54]}\n",
    "    ]\n",
    "li2[0]['a']\n",
    "\n",
    "dict2={}\n",
    "\n",
    "idx = 0"
   ]
  },
  {
   "cell_type": "code",
   "execution_count": 32,
   "id": "414a2616-aafb-4998-9abc-0b5ad0339276",
   "metadata": {},
   "outputs": [],
   "source": [
    "def f(i):\n",
    "    s = 0\n",
    "    for j in i:\n",
    "        s += j\n",
    "    print(s)\n",
    "    return s"
   ]
  },
  {
   "cell_type": "code",
   "execution_count": 36,
   "id": "1f433c4e-e955-4835-b1d3-82eeacedac77",
   "metadata": {},
   "outputs": [
    {
     "name": "stdout",
     "output_type": "stream",
     "text": [
      "10\n",
      "80\n",
      "90\n",
      "180\n"
     ]
    },
    {
     "data": {
      "text/plain": [
       "{'a0': 10, 'a1': 80, 'a2': 90, 'a3': 180}"
      ]
     },
     "execution_count": 36,
     "metadata": {},
     "output_type": "execute_result"
    }
   ],
   "source": [
    "dict2 = {}\n",
    "idx  = 0\n",
    "for i in li2:\n",
    "    dict2['a'+str(idx)] = f(i['a'])\n",
    "    idx += 1\n",
    "\n",
    "dict2"
   ]
  },
  {
   "cell_type": "code",
   "execution_count": 38,
   "id": "15f97d81-14a8-47b7-be8d-9aacab7ae7b1",
   "metadata": {},
   "outputs": [
    {
     "data": {
      "text/plain": [
       "[14, 21, 28, 35]"
      ]
     },
     "execution_count": 38,
     "metadata": {},
     "output_type": "execute_result"
    }
   ],
   "source": [
    "list(map(lambda x: x*7 , [2,3,4,5]))"
   ]
  },
  {
   "cell_type": "code",
   "execution_count": 64,
   "id": "78a59cba-684c-4545-a00a-a1b63fc8483f",
   "metadata": {},
   "outputs": [
    {
     "name": "stdout",
     "output_type": "stream",
     "text": [
      "10\n",
      "80\n",
      "90\n",
      "180\n"
     ]
    },
    {
     "data": {
      "text/plain": [
       "{'a1': 80, 'a2': 90, 'a3': 180, 'a4': 0, 'a0': 10}"
      ]
     },
     "execution_count": 64,
     "metadata": {},
     "output_type": "execute_result"
    }
   ],
   "source": [
    "dict2 = {'a1':0, 'a2':0,'a3':0,'a4':0}\n",
    "for i in range(len(dict2)):\n",
    "    dict2['a'+str(i)] = f(li2[i]['a'])\n",
    "\n",
    "dict2"
   ]
  },
  {
   "cell_type": "code",
   "execution_count": 94,
   "id": "908324ea-8f66-469c-aa89-f303c1a65134",
   "metadata": {},
   "outputs": [
    {
     "name": "stdout",
     "output_type": "stream",
     "text": [
      "{'a': [1, 2, 3, 4]}\n",
      "idx: 0\n",
      "i: {'a': [1, 2, 3, 4]}\n",
      "10\n",
      "{'a': [11, 22, 33, 14]}\n",
      "idx: 1\n",
      "i: {'a': [11, 22, 33, 14]}\n",
      "80\n",
      "{'a': [21, 22, 23, 24]}\n",
      "idx: 2\n",
      "i: {'a': [21, 22, 23, 24]}\n",
      "90\n",
      "{'a': [41, 42, 43, 54]}\n",
      "idx: 3\n",
      "i: {'a': [41, 42, 43, 54]}\n",
      "180\n"
     ]
    },
    {
     "data": {
      "text/plain": [
       "dict_keys(['a1', 'a2', 'a3', 'a4'])"
      ]
     },
     "execution_count": 94,
     "metadata": {},
     "output_type": "execute_result"
    }
   ],
   "source": [
    "dict2 = {'a1':0, 'a2':0,'a3':0,'a4':0}\n",
    "for (idx,i) in enumerate(li2):\n",
    "    print(i)\n",
    "    print(\"idx:\",idx)\n",
    "    print(\"i:\",i)\n",
    "    dict2['a'+str(idx+1)] = f(i['a'])\n",
    "\n",
    "dict2.keys()"
   ]
  },
  {
   "cell_type": "code",
   "execution_count": 52,
   "id": "72eda518-821c-434d-a29d-e60db2daeddf",
   "metadata": {},
   "outputs": [
    {
     "name": "stdout",
     "output_type": "stream",
     "text": [
      "10\n",
      "10\n",
      "80\n",
      "80\n",
      "90\n",
      "90\n",
      "180\n",
      "180\n"
     ]
    }
   ],
   "source": [
    "\n",
    "list(map(f,i['a']) for i in li2)\n",
    "\n",
    "for i in li2:\n",
    "    print(f(i['a']))"
   ]
  },
  {
   "cell_type": "code",
   "execution_count": null,
   "id": "7876d0b8-7bd9-4e8b-9ed3-fd1e6bf5d330",
   "metadata": {},
   "outputs": [],
   "source": []
  }
 ],
 "metadata": {
  "kernelspec": {
   "display_name": "Python 3 (ipykernel)",
   "language": "python",
   "name": "python3"
  },
  "language_info": {
   "codemirror_mode": {
    "name": "ipython",
    "version": 3
   },
   "file_extension": ".py",
   "mimetype": "text/x-python",
   "name": "python",
   "nbconvert_exporter": "python",
   "pygments_lexer": "ipython3",
   "version": "3.13.5"
  }
 },
 "nbformat": 4,
 "nbformat_minor": 5
}
