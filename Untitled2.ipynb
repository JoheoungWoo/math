{
 "cells": [
  {
   "cell_type": "markdown",
   "id": "41e7db17-13d6-411e-be0c-fcf863b388a2",
   "metadata": {},
   "source": [
    "$ \\[\n",
    "\\begin{bmatrix}\n",
    "2 & 4 \\\\\n",
    "6 & 2\n",
    "\\end{bmatrix}\n",
    "\\begin{bmatrix}\n",
    "x \\\\\n",
    "y\n",
    "\\end{bmatrix}\n",
    "=\n",
    "\\begin{bmatrix}\n",
    "5 \\\\\n",
    "7\n",
    "\\end{bmatrix}\n",
    "\\]\n",
    "\n",
    "\\[\n",
    "A =\n",
    "\\begin{bmatrix}\n",
    "2 & 4 \\\\\n",
    "6 & 2\n",
    "\\end{bmatrix},\n",
    "\\quad\n",
    "X =\n",
    "\\begin{bmatrix}\n",
    "x \\\\\n",
    "y\n",
    "\\end{bmatrix},\n",
    "\\quad\n",
    "B =\n",
    "\\begin{bmatrix}\n",
    "5 \\\\\n",
    "7\n",
    "\\end{bmatrix}\n",
    "\\]\n",
    "\n",
    "\\[\n",
    "AX = B \\quad \\Rightarrow \\quad X = A^{-1}B\n",
    "\\]\n",
    "\n",
    "\\[\n",
    "A^{-1} =\n",
    "\\frac{1}{(2)(2) - (6)(4)}\n",
    "\\begin{bmatrix}\n",
    "2 & -4 \\\\\n",
    "-6 & 2\n",
    "\\end{bmatrix}\n",
    "=\n",
    "\\frac{1}{-20}\n",
    "\\begin{bmatrix}\n",
    "2 & -4 \\\\\n",
    "-6 & 2\n",
    "\\end{bmatrix}\n",
    "\\]\n",
    "\n",
    "\\[\n",
    "X =\n",
    "\\frac{1}{-20}\n",
    "\\begin{bmatrix}\n",
    "2 & -4 \\\\\n",
    "-6 & 2\n",
    "\\end{bmatrix}\n",
    "\\begin{bmatrix}\n",
    "5 \\\\\n",
    "7\n",
    "\\end{bmatrix}\n",
    "=\n",
    "\\frac{1}{-20}\n",
    "\\begin{bmatrix}\n",
    "2\\cdot 5 + (-4)\\cdot 7 \\\\\n",
    "-6\\cdot 5 + 2\\cdot 7\n",
    "\\end{bmatrix}\n",
    "=\n",
    "\\frac{1}{-20}\n",
    "\\begin{bmatrix}\n",
    "-18 \\\\\n",
    "-16\n",
    "\\end{bmatrix}\n",
    "\\]\n",
    "\n",
    "\\[\n",
    "X =\n",
    "\\begin{bmatrix}\n",
    "0.9 \\\\\n",
    "0.8\n",
    "\\end{bmatrix}\n",
    "\\quad \\Rightarrow \\quad\n",
    "x = 0.9,\\; y = 0.8\n",
    "\\]\n",
    " $"
   ]
  },
  {
   "cell_type": "code",
   "execution_count": 3,
   "id": "ed9f7112-c4de-41ee-9010-5c863a1bd3d9",
   "metadata": {},
   "outputs": [
    {
     "name": "stdout",
     "output_type": "stream",
     "text": [
      "해: [0.9 0.8]\n",
      "x = 0.9, y = 0.8\n"
     ]
    }
   ],
   "source": [
    "import numpy as np\n",
    "\n",
    "# 계수 행렬 A\n",
    "A = np.array([[2, 4],\n",
    "              [6, 2]])\n",
    "\n",
    "# 상수 벡터 B\n",
    "B = np.array([5, 7])\n",
    "\n",
    "# 해 구하기 (X = A^{-1}B)\n",
    "X = np.linalg.solve(A, B)\n",
    "\n",
    "print(\"해:\", X)\n",
    "print(f\"x = {X[0]}, y = {X[1]}\")"
   ]
  },
  {
   "cell_type": "markdown",
   "id": "510f607b-8014-47ab-a63e-4f18d344f797",
   "metadata": {},
   "source": [
    "$ \\[\n",
    "\\text{주어진 연립방정식:}\n",
    "\\]\n",
    "\n",
    "\\[\n",
    "\\begin{cases}\n",
    "2x + 4y = 5 \\\\\n",
    "6x + 2y = 7\n",
    "\\end{cases}\n",
    "\\]\n",
    "\n",
    "\\[\n",
    "\\text{이를 행렬 형태로 쓰면: }\n",
    "\\quad\n",
    "\\begin{bmatrix}\n",
    "2 & 4 \\\\\n",
    "6 & 2\n",
    "\\end{bmatrix}\n",
    "\\begin{bmatrix}\n",
    "x \\\\\n",
    "y\n",
    "\\end{bmatrix}\n",
    "=\n",
    "\\begin{bmatrix}\n",
    "5 \\\\\n",
    "7\n",
    "\\end{bmatrix}\n",
    "\\]\n",
    "\n",
    "\\[\n",
    "AX = B, \\quad X = A^{-1}B\n",
    "\\]\n",
    "\n",
    "\\[\n",
    "A =\n",
    "\\begin{bmatrix}\n",
    "2 & 4 \\\\\n",
    "6 & 2\n",
    "\\end{bmatrix},\n",
    "\\quad\n",
    "B =\n",
    "\\begin{bmatrix}\n",
    "5 \\\\\n",
    "7\n",
    "\\end{bmatrix}\n",
    "\\]\n",
    "\n",
    "\\[\n",
    "\\det(A) = (2)(2) - (6)(4) = 4 - 24 = -20\n",
    "\\]\n",
    "\n",
    "\\[\n",
    "A^{-1} =\n",
    "\\frac{1}{\\det(A)}\n",
    "\\begin{bmatrix}\n",
    "2 & -4 \\\\\n",
    "-6 & 2\n",
    "\\end{bmatrix}\n",
    "=\n",
    "\\frac{1}{-20}\n",
    "\\begin{bmatrix}\n",
    "2 & -4 \\\\\n",
    "-6 & 2\n",
    "\\end{bmatrix}\n",
    "\\]\n",
    "\n",
    "\\[\n",
    "X = A^{-1}B =\n",
    "\\frac{1}{-20}\n",
    "\\begin{bmatrix}\n",
    "2 & -4 \\\\\n",
    "-6 & 2\n",
    "\\end{bmatrix}\n",
    "\\begin{bmatrix}\n",
    "5 \\\\\n",
    "7\n",
    "\\end{bmatrix}\n",
    "\\]\n",
    "\n",
    "\\[\n",
    "=\n",
    "\\frac{1}{-20}\n",
    "\\begin{bmatrix}\n",
    "2\\cdot 5 + (-4)\\cdot 7 \\\\\n",
    "-6\\cdot 5 + 2\\cdot 7\n",
    "\\end{bmatrix}\n",
    "=\n",
    "\\frac{1}{-20}\n",
    "\\begin{bmatrix}\n",
    "-18 \\\\\n",
    "-16\n",
    "\\end{bmatrix}\n",
    "\\]\n",
    "\n",
    "\\[\n",
    "X =\n",
    "\\begin{bmatrix}\n",
    "0.9 \\\\\n",
    "0.8\n",
    "\\end{bmatrix}\n",
    "\\quad \\Rightarrow \\quad\n",
    "x = 0.9,\\; y = 0.8\n",
    "\\]\n",
    " $"
   ]
  },
  {
   "cell_type": "code",
   "execution_count": 7,
   "id": "f4f71d66-d51f-4d60-b349-0cb48acc2c8d",
   "metadata": {},
   "outputs": [
    {
     "data": {
      "text/plain": [
       "True"
      ]
     },
     "execution_count": 7,
     "metadata": {},
     "output_type": "execute_result"
    }
   ],
   "source": [
    "x = 0.9\n",
    "y = 0.8\n",
    "\n",
    "2*x + 3*y - 5 < 0.001\n"
   ]
  },
  {
   "cell_type": "code",
   "execution_count": 8,
   "id": "ea833e22-6df5-442a-880b-215c96bc099f",
   "metadata": {},
   "outputs": [
    {
     "data": {
      "text/plain": [
       "True"
      ]
     },
     "execution_count": 8,
     "metadata": {},
     "output_type": "execute_result"
    }
   ],
   "source": [
    "6*x + 2*y - 7 < 0.001"
   ]
  },
  {
   "cell_type": "code",
   "execution_count": 11,
   "id": "bc7e5e45-87d9-44e1-b83c-bb4a918fce21",
   "metadata": {},
   "outputs": [],
   "source": [
    "import numpy as np"
   ]
  },
  {
   "cell_type": "code",
   "execution_count": 27,
   "id": "90054830-e893-4cbb-a7bf-a2802097daff",
   "metadata": {},
   "outputs": [
    {
     "data": {
      "text/plain": [
       "[[1, 3, 5], [3, 4, 6], [-1, 3, 5]]"
      ]
     },
     "execution_count": 27,
     "metadata": {},
     "output_type": "execute_result"
    }
   ],
   "source": [
    "x1=     ([ [1,3,5],\n",
    "     [3 ,4, 6],\n",
    "     [-1,3,5]]\n",
    ")\n",
    "x1"
   ]
  },
  {
   "cell_type": "code",
   "execution_count": 28,
   "id": "cb7cdc5d-857d-4512-9b2d-8a8b2698c91a",
   "metadata": {},
   "outputs": [
    {
     "data": {
      "text/plain": [
       "array([[ 1.00000000e+00, -6.66133815e-16, -6.66133815e-16],\n",
       "       [ 0.00000000e+00,  1.00000000e+00, -4.44089210e-16],\n",
       "       [-1.77635684e-15,  1.11022302e-15,  1.00000000e+00]])"
      ]
     },
     "execution_count": 28,
     "metadata": {},
     "output_type": "execute_result"
    }
   ],
   "source": [
    "xy = np.linalg.inv(x1)\n",
    "result = np.dot(x1,xy)\n",
    "result"
   ]
  },
  {
   "cell_type": "code",
   "execution_count": 30,
   "id": "3c319386-2e16-495f-9c6d-2c6ff4541062",
   "metadata": {},
   "outputs": [
    {
     "data": {
      "text/plain": [
       "array([[ 1., -0., -0.],\n",
       "       [ 0.,  1., -0.],\n",
       "       [-0.,  0.,  1.]])"
      ]
     },
     "execution_count": 30,
     "metadata": {},
     "output_type": "execute_result"
    }
   ],
   "source": [
    "# 불필요한 소수점 오차를 없애기 위해 반올림\n",
    "I_clean = np.round(result, decimals=6)  # 소수점 6자리까지 반올림\n",
    "I_clean\n"
   ]
  },
  {
   "cell_type": "code",
   "execution_count": null,
   "id": "ade38d47-b569-4c78-8a3d-9c5acc2d94c9",
   "metadata": {},
   "outputs": [],
   "source": [
    "# 분리"
   ]
  },
  {
   "cell_type": "code",
   "execution_count": 37,
   "id": "0d14e552-d567-4ede-bd76-86deb1bf3033",
   "metadata": {},
   "outputs": [
    {
     "data": {
      "text/plain": [
       "array([[ 1.00000000e+00, -5.55111512e-16, -1.11022302e-16],\n",
       "       [-1.33226763e-15,  1.00000000e+00, -3.99680289e-15],\n",
       "       [ 6.66133815e-16,  6.66133815e-16,  1.00000000e+00]])"
      ]
     },
     "execution_count": 37,
     "metadata": {},
     "output_type": "execute_result"
    }
   ],
   "source": [
    "y1 = (\n",
    "    [\n",
    "        [1,3,5],\n",
    "        [3,4,6],\n",
    "        [-1,3,5]\n",
    "    ]\n",
    ")\n",
    "\n",
    "b = np.array([11,3,11])\n",
    "yy = np.linalg.inv(y1)\n",
    "result = np.dot(yy,y1)\n",
    "result"
   ]
  },
  {
   "cell_type": "code",
   "execution_count": 32,
   "id": "67f01f90-9c52-41a0-852a-78998ca98703",
   "metadata": {},
   "outputs": [
    {
     "data": {
      "text/plain": [
       "array([[ 1.00000000e+00, -5.55111512e-16, -1.11022302e-16],\n",
       "       [-1.33226763e-15,  1.00000000e+00, -3.99680289e-15],\n",
       "       [ 6.66133815e-16,  6.66133815e-16,  1.00000000e+00]])"
      ]
     },
     "execution_count": 32,
     "metadata": {},
     "output_type": "execute_result"
    }
   ],
   "source": [
    "yy = np.linalg.inv(y1)\n",
    "result = np.dot(yy,y1)\n",
    "result"
   ]
  },
  {
   "cell_type": "code",
   "execution_count": 33,
   "id": "29b6c201-7cea-4bd8-91a8-e20367c0a382",
   "metadata": {},
   "outputs": [
    {
     "data": {
      "text/plain": [
       "array([[ 1., -0., -0.],\n",
       "       [-0.,  1., -0.],\n",
       "       [ 0.,  0.,  1.]])"
      ]
     },
     "execution_count": 33,
     "metadata": {},
     "output_type": "execute_result"
    }
   ],
   "source": [
    "I_clean = np.round(result, decimals=6)  # 소수점 6자리까지 반올림\n",
    "I_clean"
   ]
  },
  {
   "cell_type": "code",
   "execution_count": 85,
   "id": "59015da4-0b83-4fc5-b831-353911735c67",
   "metadata": {},
   "outputs": [
    {
     "name": "stdout",
     "output_type": "stream",
     "text": [
      "[  0.  -25.5  17.5]\n"
     ]
    }
   ],
   "source": [
    "solution = np.dot(yy,b)\n",
    "solution = np.round(solution,decimals=6)\n",
    "print(solution)\n",
    "\n",
    "x11= 0.\n",
    "x12= -25.5 \n",
    "x13= 17.5  "
   ]
  },
  {
   "cell_type": "code",
   "execution_count": 79,
   "id": "89a96b83-dde7-43f6-91bb-2523f4c678a9",
   "metadata": {},
   "outputs": [
    {
     "data": {
      "text/plain": [
       "True"
      ]
     },
     "execution_count": 79,
     "metadata": {},
     "output_type": "execute_result"
    }
   ],
   "source": [
    "3 * x11 + 4 * x12 + 6 * x13 - 11 < 0.001"
   ]
  },
  {
   "cell_type": "code",
   "execution_count": 88,
   "id": "0c72d980-d47b-45e9-a781-88a027165480",
   "metadata": {},
   "outputs": [
    {
     "data": {
      "text/plain": [
       "True"
      ]
     },
     "execution_count": 88,
     "metadata": {},
     "output_type": "execute_result"
    }
   ],
   "source": [
    "1 * -x11 + 2 * x12 + x13 - 3 < 0.001"
   ]
  },
  {
   "cell_type": "code",
   "execution_count": 90,
   "id": "f7c2a66e-b566-46ff-b120-97ff8c742670",
   "metadata": {},
   "outputs": [
    {
     "data": {
      "text/plain": [
       "False"
      ]
     },
     "execution_count": 90,
     "metadata": {},
     "output_type": "execute_result"
    }
   ],
   "source": [
    "2 * x11 + -3 * x12 + 9 * x13 - 11 < 0.001"
   ]
  },
  {
   "cell_type": "code",
   "execution_count": 91,
   "id": "bb7452a5-f643-4cb8-9b46-740a496aa58a",
   "metadata": {},
   "outputs": [],
   "source": [
    "#공백"
   ]
  },
  {
   "cell_type": "markdown",
   "id": "1b100625-ff9f-42b0-b6cc-07f285bdae15",
   "metadata": {},
   "source": [
    "$  f(x) = 3x^2 + 7x + 6  $\n",
    "\n",
    " $ \\text{적분 구간: } \\int_{2}^{5} f(x)\\,dx  $\n",
    "\n",
    "$ F(x) = \\int f(x)\\,dx \n",
    "= x^3 + \\tfrac{7}{2}x^2 + 6x  $\n",
    "\n",
    "$ \\int_{2}^{5} f(x)\\,dx\n",
    "= \\Bigl[ x^3 + \\tfrac{7}{2}x^2 + 6x \\Bigr]_{2}^{5}\n",
    "= \\Bigl(125 + \\tfrac{7}{2}\\cdot 25 + 30 \\Bigr) - \\Bigl(8 + \\tfrac{7}{2}\\cdot 4 + 12 \\Bigr)   $\n",
    "$ \\int_{2}^{5} f(x)\\,dx\n",
    "= \\Bigl[ x^3 + \\tfrac{7}{2}x^2 + 6x \\Bigr]_{2}^{5}\n",
    "= \\Bigl(125 + \\tfrac{7}{2}\\cdot 25 + 30 \\Bigr) - \\Bigl(8 + \\tfrac{7}{2}\\cdot 4 + 12 \\Bigr)   $\n",
    "\n",
    "$ \n",
    "\\int_{2}^{5} f(x)\\,dx\n",
    "= \\Bigl[ x^3 + \\tfrac{7}{2}x^2 + 6x \\Bigr]_{2}^{5}\n",
    "= \\Bigl(125 + \\tfrac{7}{2}\\cdot 25 + 30 \\Bigr) - \\Bigl(8 + \\tfrac{7}{2}\\cdot 4 + 12 \\Bigr)\n",
    "$ \n",
    "\n",
    "\n",
    " $  = 188.5 - (-19) = \\tfrac{417}{2} = 208.5 $\n",
    " $  \\therefore \\quad \\text{정확한 면적은 } 208.5   $"
   ]
  },
  {
   "cell_type": "code",
   "execution_count": 96,
   "id": "3cba861f-8b4c-45d4-8528-894c7f844985",
   "metadata": {},
   "outputs": [
    {
     "name": "stdout",
     "output_type": "stream",
     "text": [
      "부정적분 F(x) = x**3 + 7*x**2/2 + 6*x\n",
      "정확한 면적 ∫_{2}^{5} f(x) dx = 417/2\n"
     ]
    },
    {
     "data": {
      "image/png": "[encoded data removed]",
      "text/plain": [
       "<Figure size 800x500 with 1 Axes>"
      ]
     },
     "metadata": {},
     "output_type": "display_data"
    }
   ],
   "source": [
    " import numpy as np\n",
    "import sympy as sp\n",
    "import matplotlib.pyplot as plt\n",
    "\n",
    "# ---- SymPy 적분 ----\n",
    "x = sp.Symbol('x', real=True)\n",
    "f = 3*x**2 + 7*x + 6\n",
    "a, b = 2, 5\n",
    "\n",
    "F = sp.integrate(f, x)                 # 부정적분\n",
    "area_exact = sp.integrate(f, (x, a, b))  # [2,5] 구간 면적\n",
    "\n",
    "print(\"부정적분 F(x) =\", F)\n",
    "print(f\"정확한 면적 ∫_{{{a}}}^{{{b}}} f(x) dx =\", area_exact)\n",
    "\n",
    "# ---- 리만합 직사각형 ----\n",
    "N = 8   # 직사각형 개수\n",
    "dx = (b - a) / N\n",
    "xs = np.linspace(a, b, 400)\n",
    "f_np = sp.lambdify(x, f, 'numpy')\n",
    "\n",
    "# midpoint rule\n",
    "sample_x = np.linspace(a + dx/2, b - dx/2, N)\n",
    "heights = f_np(sample_x)\n",
    "riemann_sum = np.sum(heights * dx)\n",
    "\n",
    "# ---- 시각화 ----\n",
    "plt.figure(figsize=(8, 5))\n",
    "plt.plot(xs, f_np(xs), 'orange', label='f(x) = 3x^2+7x+6')\n",
    "\n",
    "for xi, hi in zip(sample_x, heights):\n",
    "    plt.bar(xi, hi, width=dx, alpha=0.3, edgecolor='black')\n",
    "\n",
    "plt.axvline(a, linestyle='--', alpha=0.6)\n",
    "plt.axvline(b, linestyle='--', alpha=0.6)\n",
    "\n",
    "plt.title(f\"적분 구간 [{a},{b}] Midpoint Riemann Sum (N={N})\\n\"\n",
    "          f\"리만합 ≈ {riemann_sum:.6f},  정확한 면적 = {float(area_exact):.6f}\")\n",
    "plt.xlabel('x')\n",
    "plt.ylabel('f(x)')\n",
    "plt.legend()\n",
    "plt.show()"
   ]
  },
  {
   "cell_type": "code",
   "execution_count": 104,
   "id": "8afc49f7-da3e-4f38-a115-e600b120eebf",
   "metadata": {},
   "outputs": [
    {
     "name": "stdout",
     "output_type": "stream",
     "text": [
      "원래 함수 f(x) = x**7 + sin(2*x)*cos(3*x) + cos(8*x)\n",
      "도함수 f'(x) = 7*x**6 - 3*sin(2*x)*sin(3*x) - 8*sin(8*x) + 2*cos(2*x)*cos(3*x)\n"
     ]
    },
    {
     "name": "stderr",
     "output_type": "stream",
     "text": [
      "C:\\ProgramData\\anaconda3\\Lib\\site-packages\\IPython\\core\\pylabtools.py:170: UserWarning: Glyph 54632 (\\N{HANGUL SYLLABLE HAM}) missing from font(s) DejaVu Sans.\n",
      "  fig.canvas.print_figure(bytes_io, **kw)\n",
      "C:\\ProgramData\\anaconda3\\Lib\\site-packages\\IPython\\core\\pylabtools.py:170: UserWarning: Glyph 49688 (\\N{HANGUL SYLLABLE SU}) missing from font(s) DejaVu Sans.\n",
      "  fig.canvas.print_figure(bytes_io, **kw)\n",
      "C:\\ProgramData\\anaconda3\\Lib\\site-packages\\IPython\\core\\pylabtools.py:170: UserWarning: Glyph 50752 (\\N{HANGUL SYLLABLE WA}) missing from font(s) DejaVu Sans.\n",
      "  fig.canvas.print_figure(bytes_io, **kw)\n",
      "C:\\ProgramData\\anaconda3\\Lib\\site-packages\\IPython\\core\\pylabtools.py:170: UserWarning: Glyph 46020 (\\N{HANGUL SYLLABLE DO}) missing from font(s) DejaVu Sans.\n",
      "  fig.canvas.print_figure(bytes_io, **kw)\n",
      "C:\\ProgramData\\anaconda3\\Lib\\site-packages\\IPython\\core\\pylabtools.py:170: UserWarning: Glyph 44536 (\\N{HANGUL SYLLABLE GEU}) missing from font(s) DejaVu Sans.\n",
      "  fig.canvas.print_figure(bytes_io, **kw)\n",
      "C:\\ProgramData\\anaconda3\\Lib\\site-packages\\IPython\\core\\pylabtools.py:170: UserWarning: Glyph 47000 (\\N{HANGUL SYLLABLE RAE}) missing from font(s) DejaVu Sans.\n",
      "  fig.canvas.print_figure(bytes_io, **kw)\n",
      "C:\\ProgramData\\anaconda3\\Lib\\site-packages\\IPython\\core\\pylabtools.py:170: UserWarning: Glyph 54532 (\\N{HANGUL SYLLABLE PEU}) missing from font(s) DejaVu Sans.\n",
      "  fig.canvas.print_figure(bytes_io, **kw)\n"
     ]
    },
    {
     "data": {
      "image/png": "[encoded data removed]",
      "text/plain": [
       "<Figure size 1000x600 with 1 Axes>"
      ]
     },
     "metadata": {},
     "output_type": "display_data"
    }
   ],
   "source": [
    "import sympy as sp\n",
    "import numpy as np\n",
    "import matplotlib.pyplot as plt\n",
    "\n",
    "# 변수 선언\n",
    "x = sp.Symbol('x', real=True)\n",
    "\n",
    "# 함수 정의\n",
    "f = sp.sin(2*x)*sp.cos(3*x) + x**7 + sp.cos(8*x)\n",
    "\n",
    "# 미분\n",
    "f_prime = sp.diff(f, x)\n",
    "\n",
    "print(\"원래 함수 f(x) =\", f)\n",
    "print(\"도함수 f'(x) =\", f_prime)\n",
    "\n",
    "# numpy 변환\n",
    "f_np = sp.lambdify(x, f, 'numpy')\n",
    "f_prime_np = sp.lambdify(x, f_prime, 'numpy')\n",
    "\n",
    "# x 범위\n",
    "xs = np.linspace(-2, 2, 400)   # 필요시 범위 조정\n",
    "ys = f_np(xs)\n",
    "ys_prime = f_prime_np(xs)\n",
    "\n",
    "# 그래프\n",
    "plt.figure(figsize=(10, 6))\n",
    "plt.plot(xs, ys, label=\"f(x)\", color=\"blue\")\n",
    "plt.plot(xs, ys_prime, label=\"f'(x)\", color=\"red\", linestyle=\"--\")\n",
    "\n",
    "plt.title(\"함수와 도함수 그래프\")\n",
    "plt.xlabel(\"x\")\n",
    "plt.ylabel(\"y\")\n",
    "plt.legend()\n",
    "plt.grid(True)\n",
    "plt.show()"
   ]
  },
  {
   "cell_type": "markdown",
   "id": "2e8b2cc2-3ffa-4c5e-a483-904f76f202b7",
   "metadata": {},
   "source": [
    "<img src=\"images/a.PNG\" alt = \"Test\">"
   ]
  }
 ],
 "metadata": {
  "kernelspec": {
   "display_name": "Python [conda env:base] *",
   "language": "python",
   "name": "conda-base-py"
  },
  "language_info": {
   "codemirror_mode": {
    "name": "ipython",
    "version": 3
   },
   "file_extension": ".py",
   "mimetype": "text/x-python",
   "name": "python",
   "nbconvert_exporter": "python",
   "pygments_lexer": "ipython3",
   "version": "3.13.5"
  }
 },
 "nbformat": 4,
 "nbformat_minor": 5
}
